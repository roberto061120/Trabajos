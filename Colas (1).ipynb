{
  "nbformat": 4,
  "nbformat_minor": 0,
  "metadata": {
    "colab": {
      "name": "Colas.ipynb",
      "provenance": [],
      "collapsed_sections": []
    },
    "kernelspec": {
      "name": "python3",
      "display_name": "Python 3"
    },
    "language_info": {
      "name": "python"
    }
  },
  "cells": [
    {
      "cell_type": "markdown",
      "metadata": {
        "id": "WOZBNDnxKqiD"
      },
      "source": [
        ""
      ]
    },
    {
      "cell_type": "code",
      "metadata": {
        "id": "dIyqtv3XKoSi"
      },
      "source": [
        "class QueueADT:\n",
        "    def __init__( self ):\n",
        "        self.data = []\n",
        "    \n",
        "    def is_empty( self ):\n",
        "        return len( self.data ) == 0\n",
        "    \n",
        "    def length( self ):\n",
        "        return len( self.data )\n",
        "    \n",
        "    def enqueue( self, value ):\n",
        "        self.data.append( value )\n",
        "    \n",
        "    def dequeue( self ):\n",
        "        return self.data.pop(0)\n",
        "    \n",
        "    def to_string( self ):\n",
        "        for elem in self.data:\n",
        "            print(f\"|{elem}| <-- \", end= \"\")\n",
        "        print(\"\")"
      ],
      "execution_count": 1,
      "outputs": []
    },
    {
      "cell_type": "code",
      "metadata": {
        "id": "atX8_f_oNA4l",
        "colab": {
          "base_uri": "https://localhost:8080/"
        },
        "outputId": "a136ff7b-4e2b-4e9a-eadb-c807fa59b4b4"
      },
      "source": [
        "cola = QueueADT()\n",
        "print( \"Está vacío?: \" , cola.is_empty())\n",
        "print(\" número de elementos = \" , cola.length())\n",
        "cola.enqueue(10)\n",
        "cola.enqueue(20)\n",
        "cola.enqueue(30)\n",
        "print( \"Está vacío?: \" , cola.is_empty())\n",
        "print(\" número de elementos = \" , cola.length())\n",
        "cola.enqueue(40)\n",
        "cola.enqueue(50)\n",
        "cola.enqueue(60)\n",
        "cola.to_string()\n",
        "siguiente = cola.dequeue()\n",
        "print(\" Atendiendo a: \" , siguiente)\n",
        "cola.to_string()\n"
      ],
      "execution_count": 2,
      "outputs": [
        {
          "output_type": "stream",
          "name": "stdout",
          "text": [
            "Está vacío?:  True\n",
            " número de elementos =  0\n",
            "Está vacío?:  False\n",
            " número de elementos =  3\n",
            "|10| <-- |20| <-- |30| <-- |40| <-- |50| <-- |60| <-- \n",
            " Atendiendo a:  10\n",
            "|20| <-- |30| <-- |40| <-- |50| <-- |60| <-- \n"
          ]
        }
      ]
    },
    {
      "cell_type": "markdown",
      "metadata": {
        "id": "BLg74tI1Qjfq"
      },
      "source": [
        "# Variantes del ADT Cola\n",
        "1. Circulares\n",
        "2. Prioridad\n",
        "  - Acotada\n",
        "  - No acotada\n"
      ]
    },
    {
      "cell_type": "code",
      "metadata": {
        "id": "f0JqZ6I8Dx3A"
      },
      "source": [
        "#Tarea\n",
        "class PrioridadQueueADT:\n",
        "\n",
        "    def __init__( self ):\n",
        "        self.data = []\n",
        "    \n",
        "    def is_empty( self ):\n",
        "        return len( self.data ) == 0\n",
        "    \n",
        "    def length( self ):\n",
        "        return len( self.data )\n",
        "\n",
        "    def enqueue( self, value ):\n",
        "        dato = (value)\n",
        "        conta = -1\n",
        "        continuar = True\n",
        "\n",
        "        if self.is_empty():\n",
        "            self.data.append( dato )\n",
        "\n",
        "        else: \n",
        "            while continuar:\n",
        "                conta += 1\n",
        "                \n",
        "                if conta == self.length(): \n",
        "                    continuar = False\n",
        "\n",
        "                elif dato[0] < self.data[conta][0]: \n",
        "                    continuar = False\n",
        "\n",
        "            self.data.insert(conta, dato)\n",
        "\n",
        "    def dequeue( self ):\n",
        "        return self.data.pop(0)\n",
        "    \n",
        "    def to_string( self ):\n",
        "        for elem in self.data:\n",
        "            print(f\"|{elem}| <-- \", end= \"\")\n",
        "        print(\"\")       \n"
      ],
      "execution_count": 5,
      "outputs": []
    },
    {
      "cell_type": "code",
      "metadata": {
        "id": "zEMMRYI4D3yG"
      },
      "source": [
        "\n",
        "cola = PrioridadQueueADT()\n",
        "\n",
        "print( \"Cola con Prioridad No Acotada: \")\n",
        "\n",
        "cola.enqueue(4)\n",
        "\n",
        "cola.to_string()\n",
        "\n",
        "cola.enqueue(2)\n",
        "\n",
        "cola.to_string()\n",
        "\n",
        "cola.enqueue(5)\n",
        "\n",
        "cola.to_string()\n",
        "\n",
        "cola.enqueue(4)\n",
        "\n",
        "cola.to_string()\n",
        "\n",
        "cola.enqueue(4)\n",
        "\n",
        "cola.to_string()\n",
        "\n",
        "cola.enqueue(4)\n",
        "\n",
        "cola.to_string()\n",
        "\n",
        "cola.enqueue(2)\n",
        "\n",
        "cola.to_string()\n",
        "\n",
        "cola.enqueue(3)\n",
        "\n",
        "cola.to_string()\n",
        "\n",
        "cola.enqueue(1)\n",
        "\n",
        "cola.to_string()\n",
        "\n",
        "cola.enqueue(3)\n",
        "\n",
        "cola.to_string()\n",
        "\n",
        "cola.to_string()\n",
        "print(\"¿Está vacío? \", cola.is_empty())\n",
        "print(\"Numero de elementos:\", cola.length())\n",
        "\n",
        "siguiente = cola.dequeue()\n",
        "print(\"Proximo evacuado: \", siguiente)\n",
        "siguiente = cola.dequeue()\n",
        "print(\"Proximo evacuado: \", siguiente)\n",
        "siguiente = cola.dequeue()\n",
        "print(\"Proximo evacuado: \", siguiente)\n",
        "siguiente = cola.dequeue()\n",
        "print(\"Proximo evacuado: \", siguiente)\n",
        "siguiente = cola.dequeue()\n",
        "print(\"Proximo evacuado: \", siguiente)\n",
        "\n",
        "print(\"En espera: \")\n",
        "cola.to_string()\n"
      ],
      "execution_count": null,
      "outputs": []
    },
    {
      "cell_type": "code",
      "metadata": {
        "id": "kc1TXbpdEAf4"
      },
      "source": [
        "class AcotadaPriorityQueueADT: \n",
        "    def __init__( self, niveles ):\n",
        "        self.data = [QueueADT() for x in range(niveles) ]\n",
        "        self.size = 0\n",
        "        self.niveles = niveles\n",
        "\n",
        "    def is_empty( self ):\n",
        "        if self.size == 0:\n",
        "            return True\n",
        "        else:\n",
        "            return False\n",
        "\n",
        "    def length( self ):\n",
        "        return self.size\n",
        "\n",
        "    def enqueue( self, value ):\n",
        "        if value < 0 or value > self.niveles:\n",
        "            print(f\"Ingrese una prioridad entre 1 y {self.niveles}\")\n",
        "        else:\n",
        "            self.data[value - 1].enqueue( value )\n",
        "            self.size += 1\n",
        "\n",
        "    def dequeue( self ):\n",
        "        if self.size != 0:\n",
        "\n",
        "            i = 0\n",
        "            while self.data[i].is_empty():  \n",
        "                i += 1\n",
        "            \n",
        "            self.size -= 1\n",
        "            return self.data[i].dequeue()\n",
        "            \n",
        "        else:\n",
        "            print(\"Cola vacía\")\n",
        "\n",
        "    \n",
        "    def to_string( self ):\n",
        "        for i in range(self.niveles):\n",
        "            print(f\"Prioridad {i + 1}: \",end = \"\")\n",
        "            self.data[i].to_string()\n",
        "            "
      ],
      "execution_count": 11,
      "outputs": []
    },
    {
      "cell_type": "code",
      "metadata": {
        "colab": {
          "base_uri": "https://localhost:8080/"
        },
        "id": "sZu6eqhUEB-o",
        "outputId": "b6b9d3b2-7a07-44fb-c854-ba530642b03d"
      },
      "source": [
        "\n",
        "ac = AcotadaPriorityQueueADT( 5 )\n",
        "\n",
        "ac.enqueue(4)\n",
        "ac.enqueue(2)\n",
        "ac.enqueue(5)\n",
        "ac.enqueue(4)\n",
        "ac.enqueue(4)\n",
        "ac.enqueue(4)\n",
        "ac.enqueue(2)\n",
        "ac.enqueue(3)\n",
        "ac.enqueue(1)\n",
        "ac.enqueue(3,)\n",
        "ac.to_string()\n",
        "\n",
        "\n",
        "print(\"Evacuando...\")\n",
        "print(\"Evacuando:\",ac.dequeue())\n",
        "print(\"Evacuando:\",ac.dequeue())\n",
        "print(\"Evacuando:\",ac.dequeue())\n",
        "print(\"Evacuando:\",ac.dequeue())\n",
        "print(\"Evacuando:\",ac.dequeue())\n",
        "\n",
        "print(\"Personas esperando evacuación: \")\n",
        "ac.to_string()\n",
        "\n",
        "print(\"¿Está vacía? =\", ac.is_empty() )\n",
        "print(\"Numero de elementos:\", ac.length())"
      ],
      "execution_count": 13,
      "outputs": [
        {
          "output_type": "stream",
          "name": "stdout",
          "text": [
            "Prioridad 1: |1| <-- \n",
            "Prioridad 2: |2| <-- |2| <-- \n",
            "Prioridad 3: |3| <-- |3| <-- \n",
            "Prioridad 4: |4| <-- |4| <-- |4| <-- |4| <-- \n",
            "Prioridad 5: |5| <-- \n",
            "Evacuando...\n",
            "Evacuando: 1\n",
            "Evacuando: 2\n",
            "Evacuando: 2\n",
            "Evacuando: 3\n",
            "Evacuando: 3\n",
            "Personas esperando evacuación: \n",
            "Prioridad 1: \n",
            "Prioridad 2: \n",
            "Prioridad 3: \n",
            "Prioridad 4: |4| <-- |4| <-- |4| <-- |4| <-- \n",
            "Prioridad 5: |5| <-- \n",
            "¿Está vacía? = False\n",
            "Numero de elementos: 5\n"
          ]
        }
      ]
    }
  ]
}