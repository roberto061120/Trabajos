{
  "nbformat": 4,
  "nbformat_minor": 0,
  "metadata": {
    "colab": {
      "name": "Tarea 8.ipynb",
      "provenance": []
    },
    "kernelspec": {
      "name": "python3",
      "display_name": "Python 3"
    },
    "language_info": {
      "name": "python"
    }
  },
  "cells": [
    {
      "cell_type": "code",
      "metadata": {
        "id": "uAU1_fQIY6wf"
      },
      "source": [
        "class Nodo:\n",
        "    def __init__( self , valor , siguiente = None ):\n",
        "        self.data = valor\n",
        "        self.next = siguiente"
      ],
      "execution_count": 1,
      "outputs": []
    },
    {
      "cell_type": "code",
      "metadata": {
        "colab": {
          "base_uri": "https://localhost:8080/"
        },
        "id": "X4XQs3wxY8NG",
        "outputId": "d8d6d302-2fce-4e4c-b2e4-8b159ce86029"
      },
      "source": [
        "head = Nodo( 10 )\n",
        "print( head.data )"
      ],
      "execution_count": 2,
      "outputs": [
        {
          "output_type": "stream",
          "name": "stdout",
          "text": [
            "10\n"
          ]
        }
      ]
    },
    {
      "cell_type": "code",
      "metadata": {
        "id": "tTGCIFg1ZAqc"
      },
      "source": [
        "head = Nodo(10)\n",
        "head.next = Nodo(20)\n",
        "print(f\"Primero:{head.data}\")\n",
        "print(f\"Segundo:{head.next.data}\")\n",
        "\n",
        "head = Nodo( 10 , Nodo(20))\n",
        "print(f\"Primero:{head.data}\")\n",
        "print(f\"Segundo:{head.next.data}\")\n",
        "\n",
        "curr_node = head\n",
        "while curr_node != None:\n",
        "    print(f\"| { curr_node.data } | -->\" , end=\"\" )\n",
        "    curr_node = curr_node.next"
      ],
      "execution_count": null,
      "outputs": []
    },
    {
      "cell_type": "code",
      "metadata": {
        "id": "DDE930dDZDql"
      },
      "source": [
        "head = Nodo(10 , Nodo(20 , Nodo(30 , Nodo(40))))\n",
        "curr_node = head\n",
        "while curr_node != None:\n",
        "    print(f\"| { curr_node.data } | -->\" , end=\"\" )\n",
        "    curr_node = curr_node.next \n",
        "print(\"\")\n",
        "print(head.data)\n",
        "curr_node = head\n",
        "while curr_node.next != None:\n",
        "    curr_node= curr_node.next\n",
        "print(curr_node.data)\n",
        "\n",
        "curr_node = head\n",
        "while curr_node.data != 20:\n",
        "    curr_node = curr_node.next\n",
        "print(curr_node.data)\n",
        "\n",
        "curr_node.next = Nodo(25, curr_node.next)\n",
        "print(\"Despues de insertar 25\")\n",
        "\n",
        "curr_node = head\n",
        "while curr_node != None:\n",
        "    print(f\"| { curr_node.data } | -->\" , end=\"\" )\n",
        "    curr_node = curr_node.next"
      ],
      "execution_count": null,
      "outputs": []
    },
    {
      "cell_type": "code",
      "metadata": {
        "id": "C3pZXCz3ZHFm"
      },
      "source": [
        "class LinkedList:\n",
        "    def __init__( self ):\n",
        "        self.head = None\n",
        "\n",
        "    def is_empty( self ):\n",
        "        return self.head == None\n",
        "\n",
        "    def get_tail( self ):\n",
        "        if self.is_empty():\n",
        "            return None\n",
        "        else:     \n",
        "            curr_node = self.head\n",
        "            while curr_node.next != None:\n",
        "                curr_node = curr_node.next\n",
        "            return curr_node\n",
        "\n",
        "    def append( self , value ):\n",
        "        if self.head == None:\n",
        "            self.head = Nodo( value)\n",
        "        else:\n",
        "            curr_node = self.head\n",
        "            while curr_node.next != None:\n",
        "                curr_node = curr_node.next\n",
        "            curr_node.next = Nodo(value)\n",
        "\n",
        "    def transversal( self ):\n",
        "        curr_node = self.head\n",
        "        while curr_node != None:\n",
        "            print(f\"| { curr_node.data } | -->\" , end=\"\")\n",
        "            curr_node = curr_node.next\n",
        "        print(\"\")\n",
        "\n",
        "    def remove( self , value ):\n",
        "        if self.head == None:\n",
        "            print(\"lista vacia, no se puede remover nada\")\n",
        "        else:\n",
        "            curr_node = self.head\n",
        "            aux = None\n",
        "            while curr_node.data != value:\n",
        "                aux = curr_node\n",
        "                curr_node = curr_node.next\n",
        "            if curr_node != None:\n",
        "                aux.next = curr_node.next\n",
        "                curr_nodee = None    \n",
        "\n",
        "    def preppend( self , value ):\n",
        "        if self.head == None:\n",
        "            print(\"Esta vacio , no se puede hacer preppend\")\n",
        "        else:\n",
        "            self.head = Nodo( value , self.head )"
      ],
      "execution_count": 5,
      "outputs": []
    },
    {
      "cell_type": "code",
      "metadata": {
        "colab": {
          "base_uri": "https://localhost:8080/"
        },
        "id": "1g5UnywGZLKu",
        "outputId": "5ab1fda1-4add-4c55-83f5-555dd9c4ab41"
      },
      "source": [
        "lista = LinkedList()\n",
        "if lista.is_empty():\n",
        "    print(\"La lista esta vacia\")\n",
        "else:\n",
        "    print(\"La lista no esta vacia\")\n",
        "\n",
        "lista.append(10)\n",
        "lista.append(20)\n",
        "lista.append(30)\n",
        "lista.append(40)\n",
        "lista.append(50)\n",
        "\n",
        "nodo = lista.get_tail()\n",
        "if nodo != None:\n",
        "    print(nodo.data)\n",
        "else:\n",
        "    print(\"Lista esta vacia\")\n",
        "\n",
        "lista.transversal()\n",
        "lista.remove(30)\n",
        "lista.transversal()\n",
        "lista.preppend(5)\n",
        "lista.transversal()\n"
      ],
      "execution_count": 6,
      "outputs": [
        {
          "output_type": "stream",
          "name": "stdout",
          "text": [
            "La lista esta vacia\n",
            "50\n",
            "| 10 | -->| 20 | -->| 30 | -->| 40 | -->| 50 | -->\n",
            "| 10 | -->| 20 | -->| 40 | -->| 50 | -->\n",
            "| 5 | -->| 10 | -->| 20 | -->| 40 | -->| 50 | -->\n"
          ]
        }
      ]
    },
    {
      "cell_type": "code",
      "metadata": {
        "id": "LwFH_gFJZNm_"
      },
      "source": [
        "class NodoDoble:\n",
        "    def __init__( self , value , siguiente=None , previo=None ):\n",
        "        self.data = value\n",
        "        self.next = siguiente\n",
        "        self.prev = previo"
      ],
      "execution_count": 7,
      "outputs": []
    },
    {
      "cell_type": "code",
      "metadata": {
        "colab": {
          "base_uri": "https://localhost:8080/"
        },
        "id": "d0JhlQdYZQhI",
        "outputId": "67e33f18-86ec-483b-d55b-1650a90d6aad"
      },
      "source": [
        "#Ejercicio 1\n",
        "print(\"Ejercicio 1\")\n",
        "head = NodoDoble(10)\n",
        "tail=head\n",
        "print(head.data)\n",
        "\n",
        "#Ejercicio 2\n",
        "print(\"Ejercicio 2\")\n",
        "head = NodoDoble(10 , NodoDoble(20))\n",
        "head.next.prev = head\n",
        "tail = head.next\n",
        "print(\"El primero: \", head.data)\n",
        "print(\"El primero: \", tail.prev.data)\n",
        "print(\"El segundo: \", head.next.data)\n",
        "print(\"El segundo: \", tail.data)\n",
        "\n",
        "#Ejercicio 3\n",
        "print(\"Ejercicio 3\")\n",
        "head = NodoDoble(10 , NodoDoble(20 ,NodoDoble(30 , NodoDoble(40))))\n",
        "tail = head.next.next.next\n",
        "head.next.prev = head\n",
        "head.next.next.prev = head.next\n",
        "tail.prev = head.next.next \n",
        "print(\"El primero: \", head.data)\n",
        "print(\"El primero: \", tail.prev.prev.prev.data)\n",
        "print(\"El ultimo: \", tail.data)\n",
        "print(\"El ultimo: \", head.next.next.next.data)\n",
        "\n",
        "#Transversal\n",
        "print(\"Transversal\")\n",
        "curr_node = head\n",
        "while curr_node != None:\n",
        "    print(f\"|{curr_node.data}|-->\", end=\"\")\n",
        "    curr_node = curr_node.next\n",
        "print(\"\")\n",
        "\n",
        "#Reverse Transversal\n",
        "print(\"Reverse Transversal\")\n",
        "curr_node = tail\n",
        "while curr_node != None:\n",
        "    print(f\"|{curr_node.data}|-->\", end=\"\")\n",
        "    curr_node = curr_node.prev\n",
        "print(\"\")\n",
        "\n",
        "#Ejercicio 4\n",
        "print(\"Agregando 50 al final\")\n",
        "tail.next = NodoDoble(50,None,tail)\n",
        "tail = tail.next\n",
        "curr_node = head\n",
        "while curr_node != None:\n",
        "    print(f\"|{curr_node.data}|-->\", end=\"\")\n",
        "    curr_node = curr_node.next\n",
        "print(\"\")\n",
        "\n",
        "curr_node = tail\n",
        "while curr_node != None:\n",
        "    print(f\"|{curr_node.data}|-->\", end=\"\")\n",
        "    curr_node = curr_node.prev\n",
        "print(\"\")"
      ],
      "execution_count": 10,
      "outputs": [
        {
          "output_type": "stream",
          "name": "stdout",
          "text": [
            "Ejercicio 1\n",
            "10\n",
            "Ejercicio 2\n",
            "El primero:  10\n",
            "El primero:  10\n",
            "El segundo:  20\n",
            "El segundo:  20\n",
            "Ejercicio 3\n",
            "El primero:  10\n",
            "El primero:  10\n",
            "El ultimo:  40\n",
            "El ultimo:  40\n",
            "Transversal\n",
            "|10|-->|20|-->|30|-->|40|-->\n",
            "Reverse Transversal\n",
            "|40|-->|30|-->|20|-->|10|-->\n",
            "Agregando 50 al final\n",
            "|10|-->|20|-->|30|-->|40|-->|50|-->\n",
            "|50|-->|40|-->|30|-->|20|-->|10|-->\n"
          ]
        }
      ]
    },
    {
      "cell_type": "code",
      "metadata": {
        "id": "GMMJe4NbZTNA"
      },
      "source": [
        "class DoubleLinkedList:\n",
        "    def __init__( self ):\n",
        "        self.had = None\n",
        "        self.tail = None\n",
        "        self.size = 0\n",
        "\n",
        "    def get_size( self ):\n",
        "        return self.size\n",
        "\n",
        "    def is_empty( self ):\n",
        "        return self.size == 0\n",
        "\n",
        "    def append( self , value ):\n",
        "        if self.is_empty():\n",
        "            self.head = NodoDoble( value )\n",
        "            self.tail = self.head        \n",
        "        else:\n",
        "            self.tail.next = NodoDoble( value , None , tail)\n",
        "            self.tail = self.tail.next\n",
        "        self.size += 1\n",
        "\n",
        "    def transversal( self ):\n",
        "        curr_node = self.head\n",
        "        while curr_node != None:\n",
        "            print(f\"|{curr_node.data}| --> \" , end= \"\" )\n",
        "            curr_node = curr_node.next\n",
        "        print(\"\")               \n",
        "\n",
        "    def remov_from_tail( self , value ):\n",
        "        curr_node = self.head\n",
        "        while curr_node.data != value:\n",
        "            curr_node = curr_node.next\n",
        "        if curr_node.data == value:\n",
        "            curr_node.prev.next = curr_node.next\n",
        "            curr_node.next.prev = curr_node.prev\n",
        "        self.size -= 1"
      ],
      "execution_count": 8,
      "outputs": []
    },
    {
      "cell_type": "code",
      "metadata": {
        "colab": {
          "base_uri": "https://localhost:8080/"
        },
        "id": "u_5yuqMkZXUR",
        "outputId": "5f956ef4-55c9-4669-f75a-7b801fb22a3b"
      },
      "source": [
        "ldl = DoubleLinkedList()\n",
        "ldl.append(10)\n",
        "ldl.append(20)\n",
        "ldl.append(30)\n",
        "ldl.append(40)\n",
        "ldl.transversal()\n",
        "ldl.remov_from_tail(30)"
      ],
      "execution_count": 11,
      "outputs": [
        {
          "output_type": "stream",
          "name": "stdout",
          "text": [
            "|10| --> |20| --> |30| --> |40| --> \n"
          ]
        }
      ]
    }
  ]
}