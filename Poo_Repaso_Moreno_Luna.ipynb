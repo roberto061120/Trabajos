{
  "nbformat": 4,
  "nbformat_minor": 0,
  "metadata": {
    "colab": {
      "name": "Poo_Repaso_Moreno Luna.ipynb",
      "provenance": []
    },
    "kernelspec": {
      "name": "python3",
      "display_name": "Python 3"
    },
    "language_info": {
      "name": "python"
    }
  },
  "cells": [
    {
      "cell_type": "markdown",
      "metadata": {
        "id": "dpB5-O_hywoi"
      },
      "source": [
        "# Programación orientada a objetos con Python\n",
        "La POO es un paradigma no soportado originalmente por Python, Python aneja el paradigma imperativo.\n",
        "\n",
        "Python simula la POO con la declaración de clases y haciendo referencia a un objeto de forma circular.\n",
        "\n",
        "1. forma 1 class : <definición de la clase> '\n",
        "2. forma 2 ' class (): <Definición del cuerpo de la clase> '' El constructor se define siempre con el método init() (DOBLE GUIÓN BAJO ANTES Y DESPUÉS DE init)\n",
        "La declaración de atributos se realiza por medio de el constructor.\n",
        "\n",
        "Para hacer encapsulamiento de métodos o atributos se debe poner __ (DOBLE GUIÓN BAJO) previo a la declaración del atributo o método"
      ]
    },
    {
      "cell_type": "code",
      "metadata": {
        "id": "Jl5GPU3jy3iK"
      },
      "source": [
        "class Persona:\n",
        "    def __init__(self, n , e, est):\n",
        "        self.__nombre = n\n",
        "        self.__edad = e\n",
        "        self.__estatura = est\n",
        "    def to_string( self ):\n",
        "        return \"Nombre: \" + self.__nombre + \"Edad: \" + str(self.__edad) + \"Estatura: \" + str(self.__estatura)\n",
        "\n",
        "    def set_estatura(self, nueva_est):\n",
        "        if nueva_est > 0.10 and nueva_est < 2.5 :\n",
        "            self.__estatura = nueva_est\n",
        "        else:\n",
        "            print(\"ERROR: Esa estatura no es posible\")\n",
        "    def get_estatura( self):\n",
        "        return self.__estatura\n",
        "        "
      ],
      "execution_count": 1,
      "outputs": []
    },
    {
      "cell_type": "code",
      "metadata": {
        "id": "SaSbFSV8y89z"
      },
      "source": [
        "per = Persona(\"Jose\",18,1.70)\n",
        "print(per.to_string())\n",
        "\n",
        "#encapsulamiento\n",
        "\n",
        "per.nombre = \"Pedro\" # Esto no se recomienda en POO\n",
        "\n",
        "print(per.to_string())\n",
        "\n",
        "#per.estatura = 3.9\n",
        "per.set_estatura(3.9)\n",
        "print(per.to_string())\n",
        "\n",
        "print(\"Estatura: \" , end=\"\")\n",
        "#print( per.__estatura)\n",
        "print(per.get_estatura())\n"
      ],
      "execution_count": null,
      "outputs": []
    },
    {
      "cell_type": "code",
      "metadata": {
        "id": "WoxTmJ3uy__T"
      },
      "source": [
        "class Estudiante( Persona ):\n",
        "    def __init__(self,  nc, nombre, edad, est):\n",
        "        self.__num_cta = nc\n",
        "        super().__init__(nombre,edad,est)\n",
        "    def to_string(self):\n",
        "        \n",
        "        return super().to_string() + \"Numero de cta.:\" + self.__num_cta\n",
        "        "
      ],
      "execution_count": 3,
      "outputs": []
    },
    {
      "cell_type": "code",
      "metadata": {
        "colab": {
          "base_uri": "https://localhost:8080/"
        },
        "id": "J-k9WT-gzCmr",
        "outputId": "a704a478-b5ff-4322-c1d1-73348f5bd1a1"
      },
      "source": [
        "est = Estudiante( \"212020202\", \"José\"  ,18 , 1.7 )\n",
        "print( est.to_string() ) "
      ],
      "execution_count": 4,
      "outputs": [
        {
          "output_type": "stream",
          "name": "stdout",
          "text": [
            "Nombre: JoséEdad: 18Estatura: 1.7Numero de cta.:212020202\n"
          ]
        }
      ]
    }
  ]
}