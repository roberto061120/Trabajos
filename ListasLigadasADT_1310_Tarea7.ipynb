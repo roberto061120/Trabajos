{
  "nbformat": 4,
  "nbformat_minor": 0,
  "metadata": {
    "colab": {
      "name": "ListasLigadasADT_1310.ipynb",
      "provenance": [],
      "collapsed_sections": []
    },
    "kernelspec": {
      "name": "python3",
      "display_name": "Python 3"
    },
    "language_info": {
      "name": "python"
    }
  },
  "cells": [
    {
      "cell_type": "markdown",
      "metadata": {
        "id": "zJHY-Xhx0iYx"
      },
      "source": [
        "# Ejercicios con la clase Nodo\n",
        "\n",
        "- Crear un nodo\n",
        " - Imprimir el valor del nodo\n",
        "- Crear dos nodos 10, 20\n",
        " - Imprimir el valor del primero\n",
        " - Imprimir el valor del segundo\n",
        " - Transversal\n",
        "- Lo mismo pero con 4 nodos 10, 20, 30, 40\n",
        " - Imprimir el valor del primero\n",
        " - Imprimir el valor del último\n",
        " - Transversal \n",
        " - Insertar el nodo 25, después \n",
        "# todo eso antes de ir a la escritura formal del ADT Lista ligada\n",
        "\n",
        "\n"
      ]
    },
    {
      "cell_type": "code",
      "metadata": {
        "id": "xW4NI2Cc1Tu4"
      },
      "source": [
        "class Nodo:\n",
        "    def __init__( self, value, siguiente= None ):\n",
        "        self.data = value\n",
        "        self.next = siguiente\n"
      ],
      "execution_count": null,
      "outputs": []
    },
    {
      "cell_type": "code",
      "metadata": {
        "id": "EWr1Qzo314v8",
        "colab": {
          "base_uri": "https://localhost:8080/"
        },
        "outputId": "bf815722-e24a-40d3-c99a-8b3db04c336a"
      },
      "source": [
        "head = Nodo(10)\n",
        "print( head.data )"
      ],
      "execution_count": null,
      "outputs": [
        {
          "output_type": "stream",
          "name": "stdout",
          "text": [
            "10\n"
          ]
        }
      ]
    },
    {
      "cell_type": "code",
      "metadata": {
        "id": "XYQak7Kr2kd8",
        "colab": {
          "base_uri": "https://localhost:8080/"
        },
        "outputId": "0ce7cd3c-5ff0-401e-f82c-c58a25cb771c"
      },
      "source": [
        "head = Nodo(10)\n",
        "head.next = Nodo(20)\n",
        "print(f\"Primero={ head.data}\")\n",
        "print(f\"Segundo={ head.next.data}\")\n",
        "\n",
        "#Lo mismo pero ahorrando código\n",
        "head = Nodo(10, Nodo (20))\n",
        "print(f\"Primero={ head.data}\")\n",
        "print(f\"Segundo={ head.next.data}\")\n",
        "\n",
        "#Tranversal\n",
        "curr_node = head\n",
        "while curr_node !=None:\n",
        "  print(f\" ■ {curr_node.data } ■ -->\", end=\"\")\n",
        "  curr_node = curr_node.next\n",
        "print (\"\")\n"
      ],
      "execution_count": null,
      "outputs": [
        {
          "output_type": "stream",
          "name": "stdout",
          "text": [
            "Primero=10\n",
            "Segundo=20\n",
            "Primero=10\n",
            "Segundo=20\n",
            " ■ 10 ■ --> ■ 20 ■ -->\n"
          ]
        }
      ]
    },
    {
      "cell_type": "code",
      "metadata": {
        "id": "9XWppIyt68KZ"
      },
      "source": [
        "head = Nodo(10, Nodo(20, Nodo(30, Nodo(40))))\n",
        "#Nodo(valor, siguiente)\n",
        "#transversal\n",
        "curr_node= head\n",
        "while curr_node != None:\n",
        "  print(f\" ■ {curr_node.data } ■ -->\", end=\"\")\n",
        "  curr_node = curr_node.next\n",
        "print(\"\")\n",
        "\n",
        "#imprimir el primero\n",
        "print(head.data)\n",
        "# imprimir el último\n",
        "curr_node = head\n",
        "while curr_node.next != None:\n",
        "    curr_node= curr_node.next\n",
        "print(curr_node.data)\n",
        "\n",
        "#Insertar el nodo 25, después del nodo 20 y antes del 30\n",
        "curr_node = head\n",
        "while curr_node.data != 20:\n",
        "    curr_node = curr_node.next\n",
        "print(curr_node.data)\n",
        "\n",
        "#crear el nodo 25\n",
        "curr_node.next = Nodo(25, curr_node.next) #primero lo de la derecha y luego el siguiente\n",
        "#básicamente se tomará el 25 y luego el puntero a la derecha (o sea el 30)\n",
        "print(\"Después de insertar el 25\")\n",
        "#transversal\n",
        "curr_node= head\n",
        "while curr_node != None:\n",
        "  print(f\" ■ {curr_node.data } ■ -->\", end=\"\")\n",
        "  curr_node = curr_node.next\n",
        "print(\"\")\n",
        "\n"
      ],
      "execution_count": null,
      "outputs": []
    },
    {
      "cell_type": "code",
      "metadata": {
        "id": "tAMMwsoQdIhX"
      },
      "source": [
        "class Nodo:\n",
        "  def __init__(self,value,siguiente = None):\n",
        "    self.data= value\n",
        "    self.next= siguiente\n",
        "\n",
        "class LinkedList:\n",
        "  def __init__(self):\n",
        "    self.head = None\n",
        "\n",
        "  def is_empty (self):\n",
        "    return self.head == None\n",
        "\n",
        "  def get_tail(self):\n",
        "    if self.is_empty():\n",
        "      return None\n",
        "    else:\n",
        "      curr_node = self.head\n",
        "      while curr_node.next != None:\n",
        "        curr_node = curr_node.next\n",
        "      return curr_node\n",
        "\n",
        "  def append( self, value):\n",
        "    if self.head == None:\n",
        "        self.head = Nodo(value)\n",
        "    else:\n",
        "      curr_node = self.head\n",
        "      while curr_node.next != None:\n",
        "        curr_node = curr_node.next\n",
        "      curr_node.next = Nodo(value)\n",
        "\n",
        "  def transversal (self):\n",
        "    curr_node = self.head\n",
        "    while curr_node != None:\n",
        "      print(f\"| {curr_node.data} | -->\", end=\"\")\n",
        "      curr_node = curr_node.next\n",
        "    print (\"\")\n",
        "\n",
        "  def remove ( self , value):\n",
        "    if self.head == None:\n",
        "      print(\"Lista vacia, no se pudo remover nada\")\n",
        "    else:\n",
        "      curr_node = self.head\n",
        "      aux = None\n",
        "      while curr_node.data != value:\n",
        "        aux = curr_node\n",
        "        curr_node = curr_node.next\n",
        "        \n",
        "      if curr_node != None:\n",
        "        aux.next = curr_node.next\n",
        "        curr_node = None\n",
        "\n",
        "  def preppend ( self, value):\n",
        "    if self.head != None:\n",
        "      print(\"esta vacio\")\n",
        "    else:\n",
        "      aux = self.head\n",
        "      self.head = Nodo (value,aux)\n",
        "\n",
        "  def pop(self):\n",
        "      if self.head == None:\n",
        "        print(\"No hay dato\")\n",
        "      else:\n",
        "       curr_node = self.head\n",
        "      while curr_node.next != None:\n",
        "        curr_node = curr_node.next\n",
        "        curr_node.next = Nodo\n",
        "\n",
        "\n",
        "  def pop_first(self):\n",
        "      if self.head != None:\n",
        "        self.head = Nodo\n",
        "      else:\n",
        "       curr_node = self.head\n",
        "      while curr_node.next == None:\n",
        "        curr_node = curr_node.next\n",
        "        curr_node.next = Nodo\n",
        "    "
      ],
      "execution_count": 24,
      "outputs": []
    },
    {
      "cell_type": "code",
      "metadata": {
        "id": "caDm3LPqfowK",
        "colab": {
          "base_uri": "https://localhost:8080/",
          "height": 425
        },
        "outputId": "3c8a8653-0d7b-4add-f7f3-286c0a21283b"
      },
      "source": [
        "lista = LinkedList()\n",
        "if lista.is_empty():\n",
        "   print(\"La lista está vacía \")\n",
        "else:\n",
        "   print(\"La lista no está vacía \")\n",
        "\n",
        "lista.append(20)\n",
        "lista.append(110)\n",
        "lista.append(600)\n",
        "lista.append(10)\n",
        "nodo = lista.get_tail()\n",
        "if nodo != None:\n",
        "  print(nodo.data)\n",
        "else: \n",
        "  print(\"La lista esta vacia\")\n",
        "\n",
        "lista.transversal()\n",
        "lista.transversal()\n",
        "lista.preppend(6)\n",
        "lista.remove(10)\n",
        "lista.pop_first()\n"
      ],
      "execution_count": 25,
      "outputs": [
        {
          "output_type": "stream",
          "name": "stdout",
          "text": [
            "La lista está vacía \n",
            "10\n",
            "| 20 | -->| 110 | -->| 600 | -->| 10 | -->\n",
            "| 20 | -->| 110 | -->| 600 | -->| 10 | -->\n",
            "esta vacio\n"
          ]
        },
        {
          "output_type": "error",
          "ename": "UnboundLocalError",
          "evalue": "ignored",
          "traceback": [
            "\u001b[0;31m---------------------------------------------------------------------------\u001b[0m",
            "\u001b[0;31mUnboundLocalError\u001b[0m                         Traceback (most recent call last)",
            "\u001b[0;32m<ipython-input-25-c427949d5b17>\u001b[0m in \u001b[0;36m<module>\u001b[0;34m()\u001b[0m\n\u001b[1;32m     19\u001b[0m \u001b[0mlista\u001b[0m\u001b[0;34m.\u001b[0m\u001b[0mpreppend\u001b[0m\u001b[0;34m(\u001b[0m\u001b[0;36m6\u001b[0m\u001b[0;34m)\u001b[0m\u001b[0;34m\u001b[0m\u001b[0;34m\u001b[0m\u001b[0m\n\u001b[1;32m     20\u001b[0m \u001b[0mlista\u001b[0m\u001b[0;34m.\u001b[0m\u001b[0mremove\u001b[0m\u001b[0;34m(\u001b[0m\u001b[0;36m10\u001b[0m\u001b[0;34m)\u001b[0m\u001b[0;34m\u001b[0m\u001b[0;34m\u001b[0m\u001b[0m\n\u001b[0;32m---> 21\u001b[0;31m \u001b[0mlista\u001b[0m\u001b[0;34m.\u001b[0m\u001b[0mpop_first\u001b[0m\u001b[0;34m(\u001b[0m\u001b[0;34m)\u001b[0m\u001b[0;34m\u001b[0m\u001b[0;34m\u001b[0m\u001b[0m\n\u001b[0m",
            "\u001b[0;32m<ipython-input-24-5ea2bebfa4ef>\u001b[0m in \u001b[0;36mpop_first\u001b[0;34m(self)\u001b[0m\n\u001b[1;32m     72\u001b[0m       \u001b[0;32melse\u001b[0m\u001b[0;34m:\u001b[0m\u001b[0;34m\u001b[0m\u001b[0;34m\u001b[0m\u001b[0m\n\u001b[1;32m     73\u001b[0m        \u001b[0mcurr_node\u001b[0m \u001b[0;34m=\u001b[0m \u001b[0mself\u001b[0m\u001b[0;34m.\u001b[0m\u001b[0mhead\u001b[0m\u001b[0;34m\u001b[0m\u001b[0;34m\u001b[0m\u001b[0m\n\u001b[0;32m---> 74\u001b[0;31m       \u001b[0;32mwhile\u001b[0m \u001b[0mcurr_node\u001b[0m\u001b[0;34m.\u001b[0m\u001b[0mnext\u001b[0m \u001b[0;34m==\u001b[0m \u001b[0;32mNone\u001b[0m\u001b[0;34m:\u001b[0m\u001b[0;34m\u001b[0m\u001b[0;34m\u001b[0m\u001b[0m\n\u001b[0m\u001b[1;32m     75\u001b[0m         \u001b[0mcurr_node\u001b[0m \u001b[0;34m=\u001b[0m \u001b[0mcurr_node\u001b[0m\u001b[0;34m.\u001b[0m\u001b[0mnext\u001b[0m\u001b[0;34m\u001b[0m\u001b[0;34m\u001b[0m\u001b[0m\n\u001b[1;32m     76\u001b[0m         \u001b[0mcurr_node\u001b[0m\u001b[0;34m.\u001b[0m\u001b[0mnext\u001b[0m \u001b[0;34m=\u001b[0m \u001b[0mNodo\u001b[0m\u001b[0;34m\u001b[0m\u001b[0;34m\u001b[0m\u001b[0m\n",
            "\u001b[0;31mUnboundLocalError\u001b[0m: local variable 'curr_node' referenced before assignment"
          ]
        }
      ]
    }
  ]
}