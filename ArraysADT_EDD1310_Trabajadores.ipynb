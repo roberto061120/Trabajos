{
  "nbformat": 4,
  "nbformat_minor": 0,
  "metadata": {
    "colab": {
      "name": "ArraysADT_EDD1310_Trabajadores.ipynb",
      "provenance": []
    },
    "kernelspec": {
      "name": "python3",
      "display_name": "Python 3"
    },
    "language_info": {
      "name": "python"
    }
  },
  "cells": [
    {
      "cell_type": "code",
      "metadata": {
        "colab": {
          "base_uri": "https://localhost:8080/"
        },
        "id": "zopovOxUfkfD",
        "outputId": "62e15965-97df-47c8-a6f3-76bc9f8129dd"
      },
      "source": [
        "class Array:\n",
        "    def __init__(self , tam ):\n",
        "        self.__tamanio = tam\n",
        "        self.__data = [ 0 for x in range(self.__tamanio) ]\n",
        "\n",
        "    def to_string( self ):\n",
        "        info = \"\"\n",
        "        for dato in self.__data:\n",
        "            info = info + str(dato) +\"|\"\n",
        "        return info\n",
        "\n",
        "    def get_item ( self , index ):\n",
        "        return self.__data[index]\n",
        "    \n",
        "    def get_length( self ):\n",
        "        return len( self.__data )\n",
        "    \n",
        "    def set_item( self , dato , index):\n",
        "        #hace falta revisar limites\n",
        "        if index >= 0 and index < self.get_length():\n",
        "            self.__data[index] = dato\n",
        "        else:\n",
        "            print(\"Error: indice fuera de rango\")\n",
        "    \n",
        "\n",
        "    def clear ( self , dato ):\n",
        "        self.__data = [ dato for x in range(self.__tamanio) ]\n",
        "\n",
        "ejemplo = Array(20)\n",
        "print( ejemplo.to_string() )\n",
        "print( ejemplo.get_item(2) )\n",
        "ejemplo.set_item( 45 , 2 )\n",
        "print(ejemplo.to_string() )\n",
        "ejemplo.clear( 4 )\n",
        "print( ejemplo.to_string() )"
      ],
      "execution_count": null,
      "outputs": [
        {
          "output_type": "stream",
          "name": "stdout",
          "text": [
            "0|0|0|0|0|0|0|0|0|0|0|0|0|0|0|0|0|0|0|0|\n",
            "0\n",
            "0|0|45|0|0|0|0|0|0|0|0|0|0|0|0|0|0|0|0|0|\n",
            "4|4|4|4|4|4|4|4|4|4|4|4|4|4|4|4|4|4|4|4|\n"
          ]
        }
      ]
    },
    {
      "cell_type": "code",
      "metadata": {
        "id": "UrwxivNZgfQ7"
      },
      "source": [
        "lista = [ 3 for x in range(5)]\n",
        "print(lista)"
      ],
      "execution_count": null,
      "outputs": []
    },
    {
      "cell_type": "markdown",
      "metadata": {
        "id": "N2z8Qq_MlSIL"
      },
      "source": [
        "La carpeta de datos es volátil (que puede cambiar)..."
      ]
    },
    {
      "cell_type": "code",
      "metadata": {
        "id": "FiGJXOYdlqWo"
      },
      "source": [
        "!cat junio.dat"
      ],
      "execution_count": null,
      "outputs": []
    },
    {
      "cell_type": "code",
      "metadata": {
        "id": "HgH0B4xYm-ps"
      },
      "source": [
        "archivo = open('junio.dat', 'rt', encoding='latin-1' ) #encoding \"interpreta los caracteres en español\"\n",
        "print(archivo.read())"
      ],
      "execution_count": null,
      "outputs": []
    },
    {
      "cell_type": "code",
      "metadata": {
        "id": "60IC25vBn9r_",
        "colab": {
          "base_uri": "https://localhost:8080/"
        },
        "outputId": "7eb551f5-38e6-490d-8cf3-1e3db4f08f52"
      },
      "source": [
        "class Trabajador:\n",
        "    def __init__ ( self, nt, nom, pat, mat, he, sb, ai ):\n",
        "      self.__numero_trabajador = nt\n",
        "      self.__nombre = nom\n",
        "      self.__paterno = pat\n",
        "      self.__materno = mat\n",
        "      self.__horas_extra = he\n",
        "      self.__sueldo_base = sb\n",
        "      self.__anio_ingreso = ai \n",
        "      #Así para todos los atributos\n",
        "    #Métodos de acceso\n",
        "    def set_numero_trabajador( self , nt ):\n",
        "        self.__numero_trabajador = nt \n",
        "   \n",
        "    def get_numero_trabajador( self ):\n",
        "        return self.__numero_trabajador\n",
        "    \n",
        "    def set_nombre( self , nom ):\n",
        "        self.__nombre = nom \n",
        "   \n",
        "    def get_nombre( self ):\n",
        "        return self.__nombre\n",
        "    \n",
        "    def set_paterno( self , pat ):\n",
        "        self.__paterno = pat \n",
        "   \n",
        "    def get_paterno( self ):\n",
        "        return self.__paterno\n",
        "  \n",
        "    def set_materno( self , mat ):\n",
        "        self.__materno = mat \n",
        "   \n",
        "    def get_materno( self ):\n",
        "        return self.__materno\n",
        "\n",
        "    def set_horas_extra( self , he ):\n",
        "        self.__horas_extra = he \n",
        "   \n",
        "    def get_horas_extra( self ):\n",
        "        return self.__horas_extra\n",
        "\n",
        "    def set_sueldo_base( self , sb ):\n",
        "        self.__sueldo_base = sb \n",
        "    \n",
        "    def get_sueldo_base( self ):\n",
        "        return self.__sueldo_base\n",
        "\n",
        "    def set_nombre( self , nom ):\n",
        "        self.__nombre = nt \n",
        "    def get_nombre( self ):\n",
        "        return self.__nombre\n",
        "\n",
        "    def set_anio_ingreso( self , ai ):\n",
        "        self.__anio_ingreso = ai \n",
        "    def get_anio_ingreso( self ):\n",
        "        return self.__anio_ingreso\n",
        " # métodos de uso general --> Métodos que hacen cálculos de la lógica\n",
        "\n",
        "    def calcular_sueldo_mensual( self ):\n",
        "        anios = 2021 - self.get_anio_ingreso()\n",
        "\n",
        "        sueldo = self.get_sueldo_base()\n",
        "        # Agregarle horas extra\n",
        "\n",
        "        sueldo += self.get_horas_extra() * 276.5\n",
        "         #Agregar prestación por antiguedad\n",
        "        sueldo = sueldo + ( sueldo * anios * 0.03 )\n",
        "        return sueldo\n",
        "    def to_string( self ):\n",
        "        return \"Nombre: \" + self.__nombre + \" Sueldo: $\"+ str(self.calcular_sueldo_mensual())\n",
        "        \n",
        "    def calcular_antiguedad( self ):\n",
        "        return 2021 - self.get_anio_ingreso()\n",
        "\n",
        "emp = Trabajador( 2345, 'CARLOS', 'PEREZ' , 'CASTILLO' ,1 , 9850, 2017 )\n",
        "print(emp.get_sueldo_base())\n",
        "print(emp.get_horas_extra())\n",
        "print(emp.calcular_antiguedad())\n",
        "print(emp.to_string())"
      ],
      "execution_count": null,
      "outputs": [
        {
          "output_type": "stream",
          "name": "stdout",
          "text": [
            "9850\n",
            "1\n",
            "4\n",
            "Nombre: CARLOS Sueldo: $11341.68\n"
          ]
        }
      ]
    },
    {
      "cell_type": "code",
      "metadata": {
        "id": "sDxs6_7OqDRs"
      },
      "source": [
        "class NominaADT:\n",
        "    def __init__( self , ruta_archivo ):\n",
        "        archivo = open( ruta_archivo , 'rt' , encoding='latin-1')\n",
        "        empleados = archivo.readlines()\n",
        "        del empleados[0]\n",
        "        for index in range(len(empleados)):\n",
        "            empleados[index] = empleados[index].strip().split(',')\n",
        "        self.__data=Array( len(empleados) )\n",
        "        cont = 0\n",
        "        for emp in empleados:\n",
        "            tmp = Trabajador( int(emp[0]) , emp[1] , emp[2] , (emp[3]) , int(emp[4]) , int(emp[5]) , int(emp[6]) )\n",
        "            self.__data.set_item( tmp , cont )\n",
        "            cont += 1\n",
        "    def get_empleados(self, num):\n",
        "        return self.__data.get_item(num)\n",
        "\n",
        "    def buscar_mas_antiguo( self ):\n",
        "        masAntiguo = 0\n",
        "        nomEmpleado = ' '\n",
        "        for i in range( self.__data.get_length() - 1):\n",
        "          emp = self.get_empleados( i + 1)\n",
        "          if emp.calcular_antiguedad() > masAntiguo:\n",
        "             masAntiguo = emp.calcular_antiguedad()\n",
        "             nomEmpleado = emp.get_nombre()\n",
        "             nomEmpleados = nomEmpleado\n",
        "          elif emp.calcular_antiguedad() == masAntiguo: \n",
        "               nomEmpleado = emp.get_nombre()\n",
        "               nomEmpleados = nomEmpleados + ' ' + nomEmpleado        \n",
        "               print(f'Los empleados más antiguos son: {nomEmpleados}')\n",
        "               \n",
        "          \n",
        "    \n",
        "   # def buscar_menor_antiguedad( self ):\n",
        "        menosAntiguo = 0\n",
        "        nomEmpleado = ' '\n",
        "        for i in range( self.__data.get_length() - 1):\n",
        "          emp = self.get_empleados( i + 1)\n",
        "          if emp.calcular_antiguedad() < menosAntiguo:\n",
        "             menosAntiguo = emp.calcular_antiguedad()\n",
        "             nomEmpleado = emp.get_nombre()\n",
        "             nomEmpleados = nomEmpleado\n",
        "          elif emp.calcular_antiguedad() == menosAntiguo: \n",
        "               nomEmpleado = emp.get_nombre()\n",
        "               nomEmpleados = nomEmpleados + ' ' + nomEmpleado        \n",
        "               print(f'Los empleados menos antiguos son: {nomEmpleados}')\n",
        "\n",
        "    def calcular_sueldos( self ):\n",
        "        for index in range(self.__data.get_length()):\n",
        "            print(self.__data.get_item(index).to_string())\n",
        "\n",
        "ejemplo = NominaADT('junio.dat')\n",
        "ejemplo.calcular_sueldos()\n",
        "ejemplo.buscar_mas_antiguo()\n",
        "ejemplo.buscar_menor_antiguedad()"
      ],
      "execution_count": null,
      "outputs": []
    }
  ]
}