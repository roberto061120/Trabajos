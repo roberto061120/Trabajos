{
  "nbformat": 4,
  "nbformat_minor": 0,
  "metadata": {
    "colab": {
      "name": "árboles_1310_30-11-21.ipynb",
      "provenance": [],
      "collapsed_sections": []
    },
    "kernelspec": {
      "name": "python3",
      "display_name": "Python 3"
    },
    "language_info": {
      "name": "python"
    }
  },
  "cells": [
    {
      "cell_type": "code",
      "metadata": {
        "id": "tC6S4GGoGk-B"
      },
      "source": [
        "class NodoBinario:\n",
        "    def __init__( self , value , left=None , right=None ):\n",
        "        self.data = value\n",
        "        self.left = left\n",
        "        self.right = right\n",
        "\n",
        "class NodoTernario:\n",
        "    def __init__( self , value , left=None , center=None, right=None ):\n",
        "        self.data = value\n",
        "        self.left = left\n",
        "        self.center = center\n",
        "        self.right = right\n"
      ],
      "execution_count": null,
      "outputs": []
    },
    {
      "cell_type": "code",
      "metadata": {
        "colab": {
          "base_uri": "https://localhost:8080/"
        },
        "id": "HcCcauZ5HiK0",
        "outputId": "24144e69-8bd7-45e0-8133-3e59e405bb6e"
      },
      "source": [
        "arbol1 = NodoBinario( \"R\" , NodoBinario(\"C\") , NodoBinario(\"H\") )\n",
        "print( arbol1.right.data)\n",
        "\n",
        "arbol2 = NodoTernario( 4 , NodoTernario( 3 , NodoTernario(5 , left=NodoTernario(2) ) \\\n",
        "        , NodoTernario(5) , NodoTernario(2) )  , None , NodoTernario(5) )\n",
        "print( arbol2.left.right.data)\n",
        "print( arbol2.data)\n",
        "print( arbol2.left.center.data)\n",
        "print( arbol2.right.left)\n",
        "print( arbol2.left.left.left.data)\n",
        "print(\"----- sin usar la palabra print ----\")\n",
        "ejemplo = arbol2.left.left.left.data\n",
        "print(ejemplo)\n",
        "print(\"---- otra forma ----\")\n",
        "aux = arbol2\n",
        "while( aux.left != None):\n",
        "    aux = aux.left\n",
        "print( aux.data )\n"
      ],
      "execution_count": null,
      "outputs": [
        {
          "output_type": "stream",
          "name": "stdout",
          "text": [
            "H\n",
            "2\n",
            "4\n",
            "5\n",
            "None\n",
            "2\n",
            "----- sin usar la palabra print ----\n",
            "2\n",
            "---- otra forma ----\n",
            "2\n"
          ]
        }
      ]
    },
    {
      "cell_type": "code",
      "metadata": {
        "id": "iKWwD-ItZPRq"
      },
      "source": [
        "root = NodoBinario(\"Santi\",None,NodoBinario(\"Jesus\",NodoBinario(\"Pedro\",None,NodoBinario(\" Pedro jr\"))))\n",
        "print(root.right.left.right.data)"
      ],
      "execution_count": null,
      "outputs": []
    },
    {
      "cell_type": "code",
      "metadata": {
        "id": "9X25rTah5P0z"
      },
      "source": [
        "class NodoBinario:\n",
        "    def __init__( self , value , left=None , right=None ):\n",
        "        self.data = value\n",
        "        self.left = left\n",
        "        self.right = right\n",
        "\n",
        "class BinarySearchTree:\n",
        "    def __init__( self ):\n",
        "        self.root = None #Todo esto será el constructor\n",
        "\n",
        "    def insert (self, value):\n",
        "        if self.root == None: #aquí no está la recursividad, también es si el nodo raíz está vacíoo\n",
        "            self.root = NodoBinario(  value  )\n",
        "        else: #aquí entra ya la recursividad\n",
        "            self.__insert_nodo( self.root , value )\n",
        "\n",
        "    def __insert_nodo(self, nodo, value ):\n",
        "        if nodo.data == value:\n",
        "           pass\n",
        "        elif value < nodo.data:\n",
        "           if nodo.left == None: #si a la izquierda está vacío\n",
        "               self.left = NodoBinario( value )\n",
        "           else:\n",
        "               self.__insert_nodo( nodo.left , value )#llamando a la recursividad\n",
        "        else: #ir a la derecha\n",
        "            if nodo.right == None:\n",
        "                nodo.right = NodoBinario( value )\n",
        "            else:\n",
        "                self.__insert_nodo( nodo.right , value)\n",
        "\n",
        "    def transversal( self, formato = \"posorden\"):\n",
        "         if formato == \"posorden\":\n",
        "            self.recorrido_pos( self.root )\n",
        "         elif formato == \"preorden\":\n",
        "            self.recorrido_pre(self.root )\n",
        "         else: #inorden\n",
        "             self.recorrido_in( self.root) \n",
        "         \n",
        "\n",
        "    def recorrido_pos( self , nodo ): #Mientras haya sub-árboles, se llamará de forma recursiva\n",
        "         if nodo != None:\n",
        "            self.recorrido_pos( nodo.left )\n",
        "            self.recorrido_pos( nodo.right )\n",
        "            print (str( nodo.data) , end=\" , \")\n",
        "\n",
        "    def recorrido_pre( self , nodo ): #Mientras haya sub-árboles, se llamará de forma recursiva\n",
        "         if nodo != None:\n",
        "            print (str( nodo.data), end=\" , \" )\n",
        "            self.recorrido_pos( nodo.left )\n",
        "            self.recorrido_pos( nodo.right )\n",
        "\n",
        "    def recorrido_in( self , nodo ): #Mientras haya sub-árboles, se llamará de forma recursiva\n",
        "         if nodo != None:\n",
        "            self.recorrido_pos( nodo.left )\n",
        "            print (str( nodo.data), end=\" , \")\n",
        "            self.recorrido_pos( nodo.right )\n",
        "            \n",
        "    def search( self, value ):\n",
        "        if self.root == None:\n",
        "           print(\"Árbol vacío\")\n",
        "           return None\n",
        "        else:\n",
        "            self.__search( self.root , value)\n",
        "\n",
        "    def __search( self, nodo, value):\n",
        "        if nodo.data == None:\n",
        "            print(\"El dato no existe en el árbol\")\n",
        "            return None\n",
        "        elif nodo.data == value:\n",
        "             print(\"Encontrado\")\n",
        "             return nodo\n",
        "        elif value < nodo.data:\n",
        "             return self.__buscar( nodo.left , value)\n",
        "        else:\n",
        "             return self.__buscar( nodo.right , value)\n",
        "            "
      ],
      "execution_count": 35,
      "outputs": []
    },
    {
      "cell_type": "code",
      "metadata": {
        "id": "mPVnQDg9BYmU"
      },
      "source": [
        "arb1= BinarySearchTree()\n",
        "arb1.insert(60)\n",
        "arb1.insert(30)\n",
        "arb1.insert(15)\n",
        "arb1.insert(40)\n",
        "arb1.insert(80)\n",
        "arb1.transversal()\n",
        "arb1.transversal(\"posorden\")\n",
        "arb1.transversal(\"preorden\")\n",
        "arb1.transversal(\"inorden\")\n"
      ],
      "execution_count": null,
      "outputs": []
    }
  ]
}