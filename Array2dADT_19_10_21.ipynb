{
  "nbformat": 4,
  "nbformat_minor": 0,
  "metadata": {
    "colab": {
      "name": "Array2dADT_19/10/21.ipynb",
      "provenance": [],
      "collapsed_sections": []
    },
    "kernelspec": {
      "name": "python3",
      "display_name": "Python 3"
    },
    "language_info": {
      "name": "python"
    }
  },
  "cells": [
    {
      "cell_type": "code",
      "metadata": {
        "id": "QJZh9JounPF1"
      },
      "source": [
        "class Array2DADT:\n",
        "    def __init__( self, ren, col):\n",
        "        self.__amlo = [ [0 for y in range(col) ] for x in range(ren) ]\n",
        "\n",
        "    def clear( self, dato):\n",
        "        self.__amlo = [ [dato for y in range(self.get_col_size()) ] for x in range(self.get_row_size()) ]\n",
        "\n",
        "    def get_row_size ( self ):\n",
        "        return len( self.__amlo)\n",
        "\n",
        "    def get_col_size ( self ):\n",
        "        return len( self.__amlo[0] )\n",
        "\n",
        "    def set_item( self, ren, col, dato):\n",
        "        self.__amlo[ren][col] = dato\n",
        "\n",
        "    def get_item( self, ren, col):\n",
        "        return self.__amlo[ren][col]\n",
        "\n",
        "    def to_string( self ):\n",
        "        cadena = \"☻\"\n",
        "        for renglon in self.__amlo:\n",
        "            cadena = cadena +\"☻\"\n",
        "            for dato in renglon:\n",
        "                cadena = cadena + str(dato) +\" ☻ \"\n",
        "            cadena = cadena + \"\\n\"\n",
        "        return cadena\n",
        "\n",
        "        "
      ],
      "execution_count": 42,
      "outputs": []
    },
    {
      "cell_type": "code",
      "metadata": {
        "id": "2C7u5eeHpF2i"
      },
      "source": [
        "a2d = Array2DADT(3, 6 )\n",
        "print(f\"Ren:  {a2d.get_row_size()}\")\n",
        "\n",
        "print(f\"Col:  {a2d.get_col_size()}\")\n",
        "print(a2d.to_string())\n",
        "print(\"\")\n",
        "a2d.clear(\"M\")\n",
        "print(a2d.to_string())\n",
        "\n",
        "a2d.set_item(2,3,'p')\n",
        "print(a2d.to_string())\n",
        "print(a2d.get_item( 2, 3) )"
      ],
      "execution_count": null,
      "outputs": []
    },
    {
      "cell_type": "code",
      "metadata": {
        "id": "gP_h8HEE4c1u"
      },
      "source": [
        "\"\"\"\n",
        "Los datos iniciales son:\n",
        "1. Tamaño de la población (ren y col)\n",
        "2. La población inicial\n",
        "3. El número de generaciones a simular estarán proporcionadas por un archivo de entrada separado por comas (CSV)\n",
        "\n",
        "5\n",
        "5\n",
        "0,0,0,0,0\n",
        "0,0,1,0,0\n",
        "0,1,1,1,0\n",
        "0,0,0,0,0\n",
        "0,0,0,0,0\n",
        "10\n",
        "\"\"\"\n",
        "\n",
        "\n",
        "class JuegoDeLaVida:\n",
        "    def __init__( self, ruta_archivo ): #constructor\n",
        "     #declarando variables\n",
        "      self.rens= None #renglones\n",
        "      self.cols= None #columnas\n",
        "      self.tablero = None #porque no sabemos el tamaño\n",
        "      self.generaciones= None\n",
        "      self.read_game_data( ruta_archivo )\n",
        "\n",
        "    def read_game_data( self, archivo ):\n",
        "      archivo = open(archivo, 'rt')\n",
        "      lineas= archivo.readlines()\n",
        "      for index in range(len(lineas)):\n",
        "          lineas[index] = lineas[index].strip()\n",
        "      #print( lineas )\n",
        "      self.rens = int( lineas[0] )\n",
        "      self.cols = int( lineas[1] )\n",
        "      self.tablero = Array2DADT(self.rens, self.cols)\n",
        "      r = 0\n",
        "      c = 0\n",
        "      print( lineas )\n",
        "      for index in range( 2, 2+self.rens ,1 ):#calcularlo en base a los renglones que haya\n",
        "          c=0\n",
        "          for dato in lineas[index].split(','):\n",
        "              self.tablero.set_item( r, c , int(dato))\n",
        "              c += 1 \n",
        "          r += 1\n",
        "      self. generaciones = int(lineas[ -1 ])\n",
        "      print( \"Gens: \" ,self.generaciones)\n",
        "\n",
        "      print(self.tablero.to_string())\n",
        "\n",
        "    def get_vecinos( self, r , c):\n",
        "        vecinos = []\n",
        "        for ren in range( r-1 , r+2 , 1 ):\n",
        "            for col in range(c-1 , c+2 , 1):\n",
        "                if ren < 0 or ren >= self.tablero.get_row_size() or col < 0 or col >= self.tablero.get_col_size() or (ren==r and col==c):\n",
        "                    pass\n",
        "                else:\n",
        "                    vecinos.append((ren,col))\n",
        "        return vecinos\n",
        "\n",
        "    def get_vecinos_vivos( self, r, c ):\n",
        "        vecinos = self.get_vecinos(r, c)\n",
        "        vivos = 0\n",
        "        for par in vecinos:\n",
        "            if self.tablero.get_item( par[0], par[1] ) == 1:\n",
        "                vivos += 1\n",
        "            return vivos\n",
        "\n",
        "    def calcular_siguiente( self ):\n",
        "        nueva_gen = Array2DADT(self.rens, self.cols)\n",
        "        #aplicar 4 reglas a cada célula y el resultado se pone en nueva_gen\n",
        "        for ren in range( self.rens ):\n",
        "            for col in range( self.cols ):\n",
        "                print(f\"{ren}, {col} --> {self.get_vecinos_vivos(ren,col)}\")\n",
        "\n",
        "\n",
        "        self.tablero = nueva_gen\n",
        "            "
      ],
      "execution_count": 63,
      "outputs": []
    },
    {
      "cell_type": "markdown",
      "metadata": {
        "id": "mUcMlrW0d-JM"
      },
      "source": [
        ""
      ]
    },
    {
      "cell_type": "code",
      "metadata": {
        "id": "slZkkkc4Uaqc"
      },
      "source": [
        "juego = JuegoDeLaVida( \"entradaDos.txt\" )\n",
        "juego.get_vecinos( 4, 4)\n",
        "juego.calcular_siguiente()"
      ],
      "execution_count": null,
      "outputs": []
    },
    {
      "cell_type": "code",
      "metadata": {
        "id": "lte-YscNXeu6"
      },
      "source": [
        ""
      ],
      "execution_count": null,
      "outputs": []
    }
  ]
}