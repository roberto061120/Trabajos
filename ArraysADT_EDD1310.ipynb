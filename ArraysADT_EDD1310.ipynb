{
  "nbformat": 4,
  "nbformat_minor": 0,
  "metadata": {
    "colab": {
      "name": "ArraysADT_EDD1310.ipynb",
      "provenance": []
    },
    "kernelspec": {
      "name": "python3",
      "display_name": "Python 3"
    },
    "language_info": {
      "name": "python"
    }
  },
  "cells": [
    {
      "cell_type": "code",
      "metadata": {
        "colab": {
          "base_uri": "https://localhost:8080/"
        },
        "id": "zopovOxUfkfD",
        "outputId": "e5223153-d2a5-4b0d-fad4-78ecb9cf4423"
      },
      "source": [
        "class Array:\n",
        "    def __init__(self , tam ):\n",
        "        self.__tamanio = tam\n",
        "        self.__data = [ 0 for x in range(self.__tamanio) ]\n",
        "\n",
        "    def to_string( self ):\n",
        "        info = \"\"\n",
        "        for dato in self.__data:\n",
        "            info = info + str(dato) +\"|\"\n",
        "        return info\n",
        "\n",
        "    def get_item ( self , index ):\n",
        "        return self.__data[index]\n",
        "    \n",
        "    def get_length( self ):\n",
        "        return len( self.__data)\n",
        "    \n",
        "    def set_item( self , dato , index):\n",
        "        #hace falta revisar limites\n",
        "        if index >= 0 and index < self.get_length():\n",
        "            self.__data[index] = dato\n",
        "        else:\n",
        "            print(\"Error: indice fuera de rango\")\n",
        "    \n",
        "\n",
        "    def clear ( self , dato ):\n",
        "        self.__data = [ dato for x in range(self.__tamanio) ]\n",
        "\n",
        "ejemplo = Array(20)\n",
        "print( ejemplo.to_string() )\n",
        "print( ejemplo.get_item(2) )\n",
        "ejemplo.set_item( 45 , 2 )\n",
        "print(ejemplo.to_string() )\n",
        "ejemplo.clear( 4 )\n",
        "print( ejemplo.to_string() )"
      ],
      "execution_count": null,
      "outputs": [
        {
          "output_type": "stream",
          "name": "stdout",
          "text": [
            "0|0|0|0|0|0|0|0|0|0|0|0|0|0|0|0|0|0|0|0|\n",
            "0\n",
            "0|0|45|0|0|0|0|0|0|0|0|0|0|0|0|0|0|0|0|0|\n",
            "4|4|4|4|4|4|4|4|4|4|4|4|4|4|4|4|4|4|4|4|\n"
          ]
        }
      ]
    },
    {
      "cell_type": "code",
      "metadata": {
        "id": "UrwxivNZgfQ7"
      },
      "source": [
        "lista = [ 3 for x in range(5)]\n",
        "print(lista)"
      ],
      "execution_count": null,
      "outputs": []
    },
    {
      "cell_type": "markdown",
      "metadata": {
        "id": "N2z8Qq_MlSIL"
      },
      "source": [
        "La carpeta de datos es volátil (que puede cambiar)..."
      ]
    },
    {
      "cell_type": "code",
      "metadata": {
        "id": "FiGJXOYdlqWo"
      },
      "source": [
        "!cat junio.dat"
      ],
      "execution_count": null,
      "outputs": []
    },
    {
      "cell_type": "code",
      "metadata": {
        "id": "HgH0B4xYm-ps"
      },
      "source": [
        "archivo = open('junio.dat', 'rt', encoding='latin-1' ) #encoding \"interpreta los caracteres en español\"\n",
        "print(archivo.read())"
      ],
      "execution_count": null,
      "outputs": []
    },
    {
      "cell_type": "code",
      "metadata": {
        "id": "60IC25vBn9r_"
      },
      "source": [
        "class Trabajador:\n",
        "    def __init__( self, nt, nom, pat, mat, he, sb, ai):\n",
        "       self.__numero_trabajador = nt\n",
        "       self.__nombres = nom\n",
        "       self.__paterno = pat\n",
        "       self.__materno = mat\n",
        "       self.__horas_extra = he\n",
        "       self.__sueldo_base = sb\n",
        "       self.__anio_ingreso = ai\n",
        "       #Así para todos los atributos\n",
        "\n",
        "  #Aqui van todos los métodos de acceso\n",
        "    def set_numero_trabajador( self, nt):\n",
        "        self.__numero_trabajador = nt\n",
        "\n",
        "  # métodos de uso general --> Métodos que hacen cálculos de la lógica\n",
        "  "
      ],
      "execution_count": 5,
      "outputs": []
    },
    {
      "cell_type": "code",
      "metadata": {
        "id": "sDxs6_7OqDRs"
      },
      "source": [
        "class NominaADT:\n",
        "     def __init__( self, ruta_archivo ):\n",
        "         # abrir el archivo y determinar el número de empleados --> num_empleados\n",
        "         self.__data = Array(num_emp)\n",
        "    def calcular_sueldos( self ):\n",
        "\n",
        "    def buscar_mas_antiguo( self ):\n",
        "\n",
        "    def buscar_menor_antiguo( self ):"
      ],
      "execution_count": null,
      "outputs": []
    }
  ]
}