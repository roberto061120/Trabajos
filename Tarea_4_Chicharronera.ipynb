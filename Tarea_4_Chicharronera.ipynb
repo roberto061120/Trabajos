{
  "nbformat": 4,
  "nbformat_minor": 0,
  "metadata": {
    "colab": {
      "name": "Tarea 4_Chicharronera.ipynb",
      "provenance": []
    },
    "kernelspec": {
      "name": "python3",
      "display_name": "Python 3"
    },
    "language_info": {
      "name": "python"
    }
  },
  "cells": [
    {
      "cell_type": "code",
      "metadata": {
        "id": "_D9bCCmIfKna",
        "colab": {
          "base_uri": "https://localhost:8080/"
        },
        "outputId": "cc1c579e-49a2-4942-e8b3-5fde4ac7b314"
      },
      "source": [
        "import math\n",
        "def discriminante(a, b, c):\n",
        "    discrimi=pow(b,2)-(4*a*c)\n",
        "    return discrimi\n",
        "\n",
        "def raices(a, b, discri):\n",
        "    raiz1=(-b+math.sqrt(discri))/(2*a)\n",
        "    raiz2=-(b+math.sqrt(discri))/(2*a) \n",
        "    return raiz1, raiz2\n",
        "\n",
        "print (\"Calculando raíces\")\n",
        "a=float(input(\"a: \"))    \n",
        "b=float(input(\"b: \"))    \n",
        "c=float(input(\"c: \"))    \n",
        "discri=discriminante(a, b, c)\n",
        "if discri<0:\n",
        "  print(\"No hay raíces positivas\")\n",
        "else:\n",
        "  print(\"las raíces son: \")\n",
        "  print (raices(a,b,discri))"
      ],
      "execution_count": 18,
      "outputs": [
        {
          "output_type": "stream",
          "name": "stdout",
          "text": [
            "Calculando raíces\n",
            "a: 4\n",
            "b: 5\n",
            "c: -3\n",
            "las raíces son: \n",
            "(0.4430004681646913, -1.6930004681646913)\n"
          ]
        }
      ]
    }
  ]
}