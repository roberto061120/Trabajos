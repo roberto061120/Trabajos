{
  "nbformat": 4,
  "nbformat_minor": 0,
  "metadata": {
    "colab": {
      "name": "Tarea 3_Menú.ipynb",
      "provenance": []
    },
    "kernelspec": {
      "name": "python3",
      "display_name": "Python 3"
    },
    "language_info": {
      "name": "python"
    }
  },
  "cells": [
    {
      "cell_type": "code",
      "metadata": {
        "colab": {
          "base_uri": "https://localhost:8080/"
        },
        "id": "vBWuGsy6ekTm",
        "outputId": "5be3d120-57d6-4b26-a798-28690c1f9445"
      },
      "source": [
        "def menu_select(**argumentos ):\n",
        "  print(argumentos)\n",
        "print(\"Detalle:\")\n",
        "\n",
        "menu_select(MESA=3)\n",
        "menu_select(COMENSAL=2)\n",
        "menu_select(ENTRADA=\"Ensalada verde\")\n",
        "menu_select(MEDIO=\"Crema de zanahoria\")\n",
        "menu_select(FUERTE=\"Filete\")\n",
        "menu_select(ADICIONALES=\"Filete término medio, la ensalada sin ningun tipo de semilla, Adereso Ranch\")"
      ],
      "execution_count": 1,
      "outputs": [
        {
          "output_type": "stream",
          "name": "stdout",
          "text": [
            "Detalle:\n",
            "{'MESA': 3}\n",
            "{'COMENSAL': 2}\n",
            "{'ENTRADA': 'Ensalada verde'}\n",
            "{'MEDIO': 'Crema de zanahoria'}\n",
            "{'FUERTE': 'Filete'}\n",
            "{'ADICIONALES': 'Filete término medio, la ensalada sin ningun tipo de semilla, Adereso Ranch'}\n"
          ]
        }
      ]
    }
  ]
}