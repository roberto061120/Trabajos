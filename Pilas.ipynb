{
  "nbformat": 4,
  "nbformat_minor": 0,
  "metadata": {
    "colab": {
      "name": "Pilas.ipynb",
      "provenance": [],
      "collapsed_sections": []
    },
    "kernelspec": {
      "name": "python3",
      "display_name": "Python 3"
    },
    "language_info": {
      "name": "python"
    }
  },
  "cells": [
    {
      "cell_type": "code",
      "metadata": {
        "id": "uyKUpg7HM6Md"
      },
      "source": [
        "class StackADT:\n",
        "    def __init__( self ):\n",
        "        self.__data = list() #creando la lista\n",
        "\n",
        "    #regresa true si la pila está vacía\n",
        "    def is_empty( self ):\n",
        "        return  len( self.__data ) == 0\n",
        "\n",
        "    def get_length( self ):\n",
        "        return len( self.__data )\n",
        "\n",
        "    def pop( self ):\n",
        "        if self.is_empty():\n",
        "           print(\"Pila vacía, nada que sacar\")\n",
        "        else:\n",
        "            return self.__data.pop()\n",
        "\n",
        "    def peek( self ):\n",
        "      if self.is_empty():\n",
        "           print(\"Pila vacía, nada que sacar\")\n",
        "      else:\n",
        "          return self.__data[ -1 ]\n",
        "\n",
        "    def push( self, value ):\n",
        "        self.__data.append( value )\n",
        "\n",
        "    def to_string( self ):\n",
        "        for item in self.__data[::-1]:\n",
        "            print(f\"┴ { item } ┴ \")"
      ],
      "execution_count": 4,
      "outputs": []
    },
    {
      "cell_type": "code",
      "metadata": {
        "id": "tT1-NZvuQ0cP"
      },
      "source": [
        "pila = StackADT()\n",
        "print(\"Esta vacía? = \" , pila.is_empty() )\n",
        "print(\"# elementos : \" , pila.get_length() )\n",
        "pila.push(10)\n",
        "print(\"Esta vacía?= \" , pila.is_empty() )\n",
        "print(\"# elementos : \" , pila.get_length() )\n",
        "pila.push(20)\n",
        "pila.push(30)\n",
        "pila.push(40)\n",
        "pila.to_string()\n",
        "print( pila.pop() ) #40\n",
        "print( pila.peek() )#30\n",
        "pila.to_string()\n"
      ],
      "execution_count": null,
      "outputs": []
    },
    {
      "cell_type": "markdown",
      "metadata": {
        "id": "SYMncgqPyl6d"
      },
      "source": [
        "#Aplicación de llaves\n",
        "Estrategia de diseño de algoritmos Backtracking"
      ]
    },
    {
      "cell_type": "code",
      "metadata": {
        "id": "gNiDmjgczZwT"
      },
      "source": [
        "!cat prog.txt\n"
      ],
      "execution_count": null,
      "outputs": []
    },
    {
      "cell_type": "code",
      "metadata": {
        "id": "jgYI3F9azx7v"
      },
      "source": [
        "entrada = open('prog.txt' , 'rt')\n",
        "codigo = entrada.read()\n",
        "#print( codigo )\n",
        "pilaControl = StackADT()\n",
        "pilaControl.push(\"#\") #caracter de pila vacía\n",
        "\n",
        "for letra in codigo:\n",
        "   # print(f\"-->{ letra } <--\")\n",
        "    if letra == '{':  #regla1\n",
        "      pilaControl.push(\"{\")\n",
        "    elif letra == '}':  #regla2\n",
        "         basura = pilaControl.pop()\n",
        "    else:\n",
        "        pass\n",
        "\n",
        "#Nota: Este código aún no contempla el desbalanceo\n",
        "if pilaControl.peek() == '#':\n",
        "  print(\"Está balanceada esta wea\")\n",
        "else:\n",
        "  print(\"No está balanceado en llaves { y }\")"
      ],
      "execution_count": null,
      "outputs": []
    }
  ]
}