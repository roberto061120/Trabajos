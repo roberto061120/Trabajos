{
  "nbformat": 4,
  "nbformat_minor": 0,
  "metadata": {
    "colab": {
      "name": "Lista_Numeros.ipynb",
      "provenance": []
    },
    "kernelspec": {
      "name": "python3",
      "display_name": "Python 3"
    },
    "language_info": {
      "name": "python"
    }
  },
  "cells": [
    {
      "cell_type": "code",
      "metadata": {
        "colab": {
          "base_uri": "https://localhost:8080/"
        },
        "id": "_jZqzc7UBlXn",
        "outputId": "c305acf0-d689-4623-aa91-3471cffec5b1"
      },
      "source": [
        "listaNumeros = [1, 2, 3, 4, 5, 6, 7, 8, 9, 10, 11]\n",
        "\n",
        "del(listaNumeros[5])\n",
        "\n",
        "print (listaNumeros)"
      ],
      "execution_count": 1,
      "outputs": [
        {
          "output_type": "stream",
          "name": "stdout",
          "text": [
            "[1, 2, 3, 4, 5, 7, 8, 9, 10, 11]\n"
          ]
        }
      ]
    }
  ]
}