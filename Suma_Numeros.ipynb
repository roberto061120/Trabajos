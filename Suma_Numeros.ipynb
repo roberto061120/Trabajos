{
  "nbformat": 4,
  "nbformat_minor": 0,
  "metadata": {
    "colab": {
      "name": "Suma_Numeros.ipynb",
      "provenance": []
    },
    "kernelspec": {
      "name": "python3",
      "display_name": "Python 3"
    },
    "language_info": {
      "name": "python"
    }
  },
  "cells": [
    {
      "cell_type": "code",
      "metadata": {
        "id": "6_wF1-k-A-of"
      },
      "source": [
        "def sumaNumero(n):\n",
        "  if n == 0:\n",
        "      return 0\n",
        "  else:\n",
        "      return n % 10 + sumaNumero(n // 10)"
      ],
      "execution_count": 1,
      "outputs": []
    },
    {
      "cell_type": "code",
      "metadata": {
        "colab": {
          "base_uri": "https://localhost:8080/"
        },
        "id": "ro5h-NvJBDZ9",
        "outputId": "4580f507-02f4-40d2-a693-6cad8d937989"
      },
      "source": [
        "print (sumaNumero(123))"
      ],
      "execution_count": 2,
      "outputs": [
        {
          "output_type": "stream",
          "name": "stdout",
          "text": [
            "6\n"
          ]
        }
      ]
    }
  ]
}