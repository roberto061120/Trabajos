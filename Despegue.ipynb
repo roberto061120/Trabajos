{
  "nbformat": 4,
  "nbformat_minor": 0,
  "metadata": {
    "colab": {
      "name": "Despegue.ipynb",
      "provenance": []
    },
    "kernelspec": {
      "name": "python3",
      "display_name": "Python 3"
    },
    "language_info": {
      "name": "python"
    }
  },
  "cells": [
    {
      "cell_type": "code",
      "metadata": {
        "id": "Gn-rWz8QBXhm"
      },
      "source": [
        "def despegue( n ):\n",
        "  if n >= 0 :\n",
        "    print( n )\n",
        "    despegue( n - 1 )\n",
        "    if n == 0:\n",
        "      print ( \"BOOOOOOM\")"
      ],
      "execution_count": 3,
      "outputs": []
    },
    {
      "cell_type": "code",
      "metadata": {
        "colab": {
          "base_uri": "https://localhost:8080/"
        },
        "id": "zk_IDMI7Ba9w",
        "outputId": "21ce71ef-b393-4a39-b07a-b768770ac8d2"
      },
      "source": [
        "despegue (10)"
      ],
      "execution_count": 4,
      "outputs": [
        {
          "output_type": "stream",
          "name": "stdout",
          "text": [
            "10\n",
            "9\n",
            "8\n",
            "7\n",
            "6\n",
            "5\n",
            "4\n",
            "3\n",
            "2\n",
            "1\n",
            "0\n",
            "BOOOOOOM\n"
          ]
        }
      ]
    }
  ]
}