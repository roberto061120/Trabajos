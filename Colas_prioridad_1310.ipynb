{
  "nbformat": 4,
  "nbformat_minor": 0,
  "metadata": {
    "colab": {
      "name": "Colas_prioridad_1310.ipynb",
      "provenance": []
    },
    "kernelspec": {
      "name": "python3",
      "display_name": "Python 3"
    },
    "language_info": {
      "name": "python"
    }
  },
  "cells": [
    {
      "cell_type": "code",
      "metadata": {
        "id": "ZCCXcF0XbEc4"
      },
      "source": [
        "class Queue:\n",
        "    def __init__( self ):\n",
        "        self.data = []\n",
        "\n",
        "    def is_empty( self ):\n",
        "         return len( self.data ) == 0\n",
        "\n",
        "    def length( self ):\n",
        "         return len( self.data )\n",
        "\n",
        "    def enqueue( self, value ):\n",
        "        self.data.append( value ) \n",
        "\n",
        "    def dequeue( self ):\n",
        "        if self.is_empty():\n",
        "            print(\"no se puede quitar mas elementos, la cola esta vacia\")\n",
        "        else:     \n",
        "            return self.data.pop(0)\n",
        "\n",
        "    def to_string( self ):\n",
        "        for elem in self.data:\n",
        "            print(f\"| { elem } | <--\", end=\"\" )\n",
        "        print(\"\")\n",
        "        "
      ],
      "execution_count": 1,
      "outputs": []
    },
    {
      "cell_type": "code",
      "metadata": {
        "id": "8THYr0LDbL_Z"
      },
      "source": [
        "class BoundedPriorityQueue:\n",
        "    def __init__( self, niveles ):\n",
        "        self.__data = [Queue() for x in range(niveles)]\n",
        "        #self.__data = Array(niveles)\n",
        "        #self.__data.clear( Queue() )\n",
        "        self.__size = 0\n",
        "        \n",
        "    def is_empty( self ):\n",
        "         return self.__size == 0\n",
        "\n",
        "    def length( self ):\n",
        "         return self.__size\n",
        "\n",
        "    def enqueue( self, prioridad, elem):\n",
        "        if prioridad < len( self.__data) \\\n",
        "           and prioridad >= 0:\n",
        "           self.__data[ prioridad ].enqueue( elem )\n",
        "           self.__size +=1\n",
        "\n",
        "    def dequeue( self ):\n",
        "        nivel = 0\n",
        "        while self.__data[nivel].is_empty() \\\n",
        "              and nivel < self.length():\n",
        "            nivel +=1\n",
        "\n",
        "        if nivel >= self.length():\n",
        "            print(\"cola esta vacia\")\n",
        "        else:\n",
        "            return self.__data[ nivel ].dequeue()\n",
        "\n",
        "    def to_string( self ):\n",
        "        prioridad = 0\n",
        "        for cola in self.__data:\n",
        "            print(f\"Prioridad {prioridad} ->\", end=\"\")\n",
        "            if not cola.is_empty():\n",
        "                cola.to_string()\n",
        "                "
      ],
      "execution_count": 2,
      "outputs": []
    },
    {
      "cell_type": "code",
      "metadata": {
        "id": "4G201SE7bNah"
      },
      "source": [
        "#prueba de la cola con prioridad\n",
        "\n",
        "salvavidas = BoundedPriorityQueue( 7 )\n",
        "salvavidas.enqueue( 4 , \"maestre\")\n",
        "salvavidas.enqueue( 1 , \"niños\")\n",
        "salvavidas.enqueue( 4 , \"mecanico\")\n",
        "salvavidas.enqueue( 3 , \"mujeres\")\n",
        "salvavidas.enqueue( 2 , \"tercera edad\")\n",
        "salvavidas.enqueue( 1 , \"niñas\")\n",
        "salvavidas.enqueue( 3 , \"hombres\")\n",
        "salvavidas.enqueue( 4 , \"vigia\")\n",
        "salvavidas.enqueue( 5 , \"capitan\")\n",
        "salvavidas.enqueue( 4 , \"timonel\")\n",
        "salvavidas.to_string()\n",
        "sig = salvavidas.dequeue()\n",
        "print(f\"Subiendo { sig } al bote salvavidas\")\n",
        "salvavidas.to_string()\n"
      ],
      "execution_count": null,
      "outputs": []
    },
    {
      "cell_type": "code",
      "metadata": {
        "id": "F0yBy2GubQXJ"
      },
      "source": [
        "#implementacion de las colas de prioridad sin acontamientos \n",
        "\n",
        "class PriorityQueue:\n",
        "    def __init__(self):\n",
        "        self.__data =[]\n",
        "        self.__size = 0\n",
        "\n",
        "    def is_empty( self ):\n",
        "         return self.__size == 0\n",
        "\n",
        "    def length( self ):\n",
        "         return self.__size\n",
        "\n",
        "    def enqueue(self , prioridad , elem ):\n",
        "        existe = False\n",
        "        indice = 0\n",
        "        for index in range(len(self.__data)):\n",
        "            if self.__data[index][ \"prioridad\" ] == prioridad:\n",
        "                existe = True\n",
        "                indice = index\n",
        "        \n",
        "        if existe:\n",
        "            self.__data[indice][\"cola\"].enqueue(elem)\n",
        "        else:\n",
        "            self.__data.append( {\"prioridad\":prioridad , \"cola\": Queue() } )\n",
        "            self.__data[-1][\"cola\"].enqueue(elem)\n",
        "\n",
        "    def to_string( self ):\n",
        "        for cola in self.__data:\n",
        "            cola[\"cola\"].to_string()\n",
        "            "
      ],
      "execution_count": 4,
      "outputs": []
    },
    {
      "cell_type": "code",
      "metadata": {
        "id": "ThCbEGznbTAi"
      },
      "source": [
        "cp = PriorityQueue()\n",
        "cp.enqueue(1,\"niñas\")\n",
        "cp.enqueue(2,\"niños\")\n",
        "cp.to_string()"
      ],
      "execution_count": null,
      "outputs": []
    }
  ]
}